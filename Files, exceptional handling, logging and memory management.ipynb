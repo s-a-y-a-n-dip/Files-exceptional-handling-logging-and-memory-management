{
 "cells": [
  {
   "cell_type": "code",
   "execution_count": null,
   "id": "5fad1394-0865-435e-93eb-febb4405644b",
   "metadata": {},
   "outputs": [],
   "source": [
    "# 1. What is the difference between interpreted and compiled languages?\n",
    "# Compiled Languages >>\n",
    "#The code is translated into machine code (binary) before execution using a compiler.\n",
    "#This machine code is then executed directly by the CPU.\n",
    "#Examples: C, C++, Rust, Go\n",
    "#Pros: Faster execution, optimized performance, no need for an interpreter at runtime.\n",
    "#Cons: Compilation step is required before running, platform-dependent binaries.\n",
    "# Interpreted Languages >>\n",
    "#The code is executed line by line by an interpreter at runtime.\n",
    "#No separate compilation step; the source code is read and executed directly.\n",
    "#Examples: Python, JavaScript, Ruby, PHP\n",
    "#Pros: Easier debugging, platform-independent (requires an interpreter).\n",
    "#Cons: Slower execution, as the code is processed at runtime."
   ]
  },
  {
   "cell_type": "code",
   "execution_count": null,
   "id": "ea430dbe-8bbe-4ca5-a6e6-d6414a028b52",
   "metadata": {},
   "outputs": [],
   "source": [
    "#2. What is exception handling in Python?\n",
    "# Exception handling in Python is a mechanism to handle runtime errors and prevent program crashes. \n",
    "# It allows you to catch and manage errors gracefully using try-except blocks."
   ]
  },
  {
   "cell_type": "code",
   "execution_count": null,
   "id": "c9e16348-5249-4e43-972a-9c16015db173",
   "metadata": {},
   "outputs": [],
   "source": [
    "#3. What is the purpose of the finally block in exception handling?\n",
    "# The finally block in Python is always executed, regardless of whether an exception occurs or not. \n",
    "# It is primarily used for cleanup operations like closing files, releasing resources, or disconnecting from a database."
   ]
  },
  {
   "cell_type": "code",
   "execution_count": null,
   "id": "8978077a-4868-415f-9e06-95d4f6e8d3a4",
   "metadata": {},
   "outputs": [],
   "source": [
    "#4. What is logging in Python?\n",
    "# Logging in Python is a way to track events that happen when software runs.\n",
    "# It helps with debugging, monitoring, and error tracking by storing messages in a structured way."
   ]
  },
  {
   "cell_type": "code",
   "execution_count": null,
   "id": "9bc5b767-0de9-428d-a22d-1829024709fc",
   "metadata": {},
   "outputs": [],
   "source": [
    "#5. What is the significance of the __del__ method in Python?\n",
    "# The __del__ method is a destructor in Python, automatically called when an object is about to be destroyed (garbage collected). \n",
    "# It is used to release resources, such as closing files, network connections, or database connections."
   ]
  },
  {
   "cell_type": "code",
   "execution_count": null,
   "id": "ba4752be-5c80-46ca-955f-2f38bc51af6b",
   "metadata": {},
   "outputs": [],
   "source": [
    "# 6. What is the difference between import and from ... import in Python?\n",
    "# Feature\t                   import module\t             from module import function\n",
    "#Imports\t                   Entire module\t             Only specified items\n",
    "#Access\t                       module.function()\t         function() directly\n",
    "#Namespace                     Conflict\tNo\t                 Possible\n",
    "#Readability\t               Clear\t                     Shorter, but can be confusing\n"
   ]
  },
  {
   "cell_type": "code",
   "execution_count": null,
   "id": "425c2697-d96a-452b-9648-b6d1119a5600",
   "metadata": {},
   "outputs": [],
   "source": [
    "# 7. How can you handle multiple exceptions in Python?\n",
    "#Best Practices for Handling Multiple Exceptions\n",
    "#(1) Use multiple except blocks if different exceptions require different handling.\n",
    "#(2) Use a tuple for similar exceptions to avoid redundancy.\n",
    "#(3) Avoid catching Exception unless necessary (e.g., logging errors).\n",
    "#(4) Use finally for cleanup (closing files, releasing resources)."
   ]
  },
  {
   "cell_type": "code",
   "execution_count": null,
   "id": "57f57b98-95de-4e6c-b26b-eeb564c702d9",
   "metadata": {},
   "outputs": [],
   "source": [
    "# 8. What is the purpose of the with statement when handling files in Python?\n",
    "# The with statement in Python is used for automatic resource management, especially when working with files.\n",
    "# It ensures that the file is properly closed after its operations are completed, even if an error occurs."
   ]
  },
  {
   "cell_type": "code",
   "execution_count": null,
   "id": "03787a8b-1a10-488b-bcbc-ec4f866bde39",
   "metadata": {},
   "outputs": [],
   "source": [
    "# 9. What is the difference between multithreading and multiprocessing?\n",
    "# Feature\t                                      Multithreading\t                                          Multiprocessing\n",
    "#(1)Execution\t                         Multiple threads within a process\t                     Multiple processes\n",
    "#(2)Uses\t                             Threads (lighter, share memory)\t                     Processes (independent, separate memory)\n",
    "#(3)Memory Sharing\t                     Yes (shared memory space)\t                             No (separate memory for each process)\n",
    "#(4)Speed\t                             Faster for I/O-bound tasks\t                             Faster for CPU-bound tasks\n",
    "#(5)Global Interpreter \t                 Affected by GIL(only one thread runs \t                 Not affected(each process has its own\n",
    "#   Lock (GIL)                           Python bytecode at a time)                              Python interpreter)\n",
    "#(6)Overhead\t                         Lower (less memory, faster context switching)\t         Higher (more memory, slower startup)\n",
    "#(7)Use Case\t                         Best for I/O-bound tasks (file handling,\t             Best for CPU-bound tasks \n",
    "#                                        network requests)                                       (data processing, computations)                                                          "
   ]
  },
  {
   "cell_type": "code",
   "execution_count": null,
   "id": "bd6c7a94-7f59-45e7-9ec9-f93b18a3f2c6",
   "metadata": {},
   "outputs": [],
   "source": [
    "# 10. What are the advantages of using logging in a program?\n",
    "# Logging helps with debugging, monitoring, and performance optimization.\n",
    "# Use different log levels (DEBUG, INFO, WARNING, ERROR, CRITICAL) to categorize messages.\n",
    "# Always prefer logging over print() in real-world applications."
   ]
  },
  {
   "cell_type": "code",
   "execution_count": null,
   "id": "b4200652-d19f-4cbd-8b23-debe16960a62",
   "metadata": {},
   "outputs": [],
   "source": [
    "#11. What is memory management in Python?\n",
    "# Memory management in Python refers to how the language handles memory allocation and deallocation for objects created during program execution."
   ]
  },
  {
   "cell_type": "code",
   "execution_count": 25,
   "id": "7a5df707-f7be-40f2-a3c4-91761799ea8e",
   "metadata": {},
   "outputs": [
    {
     "ename": "IndentationError",
     "evalue": "unexpected indent (1742980454.py, line 3)",
     "output_type": "error",
     "traceback": [
      "\u001b[1;36m  Cell \u001b[1;32mIn[25], line 3\u001b[1;36m\u001b[0m\n\u001b[1;33m    x = 10 / 0\u001b[0m\n\u001b[1;37m    ^\u001b[0m\n\u001b[1;31mIndentationError\u001b[0m\u001b[1;31m:\u001b[0m unexpected indent\n"
     ]
    }
   ],
   "source": [
    "#12. What are the basic steps involved in exception handling in Python?\n",
    "# try:\n",
    "    x = 10 / 0"
   ]
  },
  {
   "cell_type": "code",
   "execution_count": 27,
   "id": "c93b61d1-000d-4c87-a4a4-f767275cdd05",
   "metadata": {},
   "outputs": [
    {
     "name": "stdout",
     "output_type": "stream",
     "text": [
      "Cannot divide by zero!\n"
     ]
    }
   ],
   "source": [
    "try:\n",
    "    x = 10 / 0\n",
    "except ZeroDivisionError:\n",
    "    print(\"Cannot divide by zero!\")"
   ]
  },
  {
   "cell_type": "code",
   "execution_count": 29,
   "id": "5a2a7ec1-2647-4c20-b4f4-f80be1e8e8b2",
   "metadata": {},
   "outputs": [
    {
     "name": "stdout",
     "output_type": "stream",
     "text": [
      "Invalid input!\n"
     ]
    }
   ],
   "source": [
    "try:\n",
    "    x = int(\"hello\")\n",
    "except (ValueError, TypeError):\n",
    "    print(\"Invalid input!\")"
   ]
  },
  {
   "cell_type": "code",
   "execution_count": 31,
   "id": "93d1bcf5-1494-4d5c-bdde-222cb4c9c9b4",
   "metadata": {},
   "outputs": [
    {
     "name": "stdout",
     "output_type": "stream",
     "text": [
      "An error occurred: division by zero\n"
     ]
    }
   ],
   "source": [
    "try:\n",
    "    x = 10 / 0\n",
    "except Exception as e:\n",
    "    print(f\"An error occurred: {e}\")"
   ]
  },
  {
   "cell_type": "code",
   "execution_count": 33,
   "id": "43be2e4a-b4cc-4e55-b561-beaa5349e42d",
   "metadata": {},
   "outputs": [
    {
     "name": "stdout",
     "output_type": "stream",
     "text": [
      "Division successful: 5.0\n"
     ]
    }
   ],
   "source": [
    "try:\n",
    "    x = 10 / 2\n",
    "except ZeroDivisionError:\n",
    "    print(\"Cannot divide by zero!\")\n",
    "else:\n",
    "    print(\"Division successful:\", x)"
   ]
  },
  {
   "cell_type": "code",
   "execution_count": 35,
   "id": "33b72d71-647c-4375-a56a-d6ddce99be8c",
   "metadata": {},
   "outputs": [
    {
     "name": "stdout",
     "output_type": "stream",
     "text": [
      "File not found!\n",
      "Execution completed.\n"
     ]
    }
   ],
   "source": [
    "try:\n",
    "    f = open(\"file.txt\", \"r\")\n",
    "except FileNotFoundError:\n",
    "    print(\"File not found!\")\n",
    "finally:\n",
    "    print(\"Execution completed.\")"
   ]
  },
  {
   "cell_type": "code",
   "execution_count": 37,
   "id": "c417cd59-6266-4e05-a15a-9cbd7c168362",
   "metadata": {},
   "outputs": [
    {
     "name": "stdout",
     "output_type": "stream",
     "text": [
      "Age must be 18 or older.\n"
     ]
    }
   ],
   "source": [
    "def check_age(age):\n",
    "    if age < 18:\n",
    "        raise ValueError(\"Age must be 18 or older.\")\n",
    "    return \"Access granted.\"\n",
    "\n",
    "try:\n",
    "    print(check_age(16))\n",
    "except ValueError as e:\n",
    "    print(e)"
   ]
  },
  {
   "cell_type": "code",
   "execution_count": null,
   "id": "920b1ee1-8846-4cfc-86f1-0a4d01d45a22",
   "metadata": {},
   "outputs": [],
   "source": [
    "#13. Why is memory management important in Python?\n",
    "# Memory management is crucial in Python because it directly impacts performance, efficiency, and stability. \n",
    "# Poor memory management can lead to memory leaks, slow performance, and crashes. "
   ]
  },
  {
   "cell_type": "code",
   "execution_count": null,
   "id": "449573a1-e1b8-4462-8638-5efa04d2e7d1",
   "metadata": {},
   "outputs": [],
   "source": [
    "#14. What is the role of try and except in exception handling?\n",
    "# In Python, try and except are fundamental components of exception handling, allowing a program to detect and recover from runtime errors gracefully,\n",
    "# instead of crashing."
   ]
  },
  {
   "cell_type": "code",
   "execution_count": null,
   "id": "49b56e12-712e-41f6-a8aa-8d88ddb9cd36",
   "metadata": {},
   "outputs": [],
   "source": [
    "#15. How does Python's garbage collection system work?\n",
    "# Python's garbage collection (GC) system automatically manages memory by reclaiming memory occupied by objects no longer in use, \n",
    "# preventing memory leaks and improving efficiency."
   ]
  },
  {
   "cell_type": "code",
   "execution_count": null,
   "id": "22d02e5d-7fe6-49c7-815f-09f8135e8dce",
   "metadata": {},
   "outputs": [],
   "source": [
    "#16.  What is the purpose of the else block in exception handling?\n",
    "# The else block in exception handling is used to execute code that should run only if no exception occurs in the try block. \n",
    "# It helps separate error-handling logic from normal execution logic, improving code readability and organization."
   ]
  },
  {
   "cell_type": "code",
   "execution_count": null,
   "id": "93a78bf8-68e0-4455-812d-4a51f900717f",
   "metadata": {},
   "outputs": [],
   "source": [
    "#17. What are the common logging levels in Python?\n",
    "# Python’s logging module provides different logging levels to categorize messages based on their severity and importance. \n",
    "# These levels help developers track events, debug applications, and monitor errors."
   ]
  },
  {
   "cell_type": "code",
   "execution_count": null,
   "id": "22cad89e-3416-42fc-b278-1be28ff342e6",
   "metadata": {},
   "outputs": [],
   "source": [
    "#18. What is the difference between os.fork() and multiprocessing in Python?\n",
    "# Feature\t                          os.fork()\t                             multiprocessing\n",
    "# Platform\t                     UNIX/Linux only\t                 Cross-platform (Windows, Linux, Mac)\n",
    "# Ease of Use\t                 Low-level, manual\t                 High-level, easier to use\n",
    "# Process Creation\t             Duplicates parent process\t         Creates a new process from scratch\n",
    "# Data Sharing\t                 Requires manual setup\t             Built-in Queue, Pipe, Manager\n",
    "# Process Control\t             Needs manual handling\t             Automatic process management"
   ]
  },
  {
   "cell_type": "code",
   "execution_count": null,
   "id": "93ae5cc3-0be9-45f0-ae24-846037e1dd84",
   "metadata": {},
   "outputs": [],
   "source": [
    "#19. What is the importance of closing a file in Python?\n",
    "# When working with files in Python, it is essential to close the file after completing operations. \n",
    "# Closing a file ensures efficient resource management and prevents potential issues."
   ]
  },
  {
   "cell_type": "code",
   "execution_count": null,
   "id": "bb2d8fa1-4260-415d-b8c6-67211e138b18",
   "metadata": {},
   "outputs": [],
   "source": [
    "#20. What is the difference between file.read() and file.readline() in Python?\n",
    "# Feature\t                                file.read()\t                           file.readline()\n",
    "# Reads\t                    Entire file (default) or specified bytes\t      One line at a time\n",
    "# Returns\t                A single string\t                                  A single line as a string\n",
    "# Memory Usage\t            High (loads entire file)\t                      Low (reads line by line)\n",
    "# Best For\t                Small files\t                                      Large files, reading line by line"
   ]
  },
  {
   "cell_type": "code",
   "execution_count": null,
   "id": "f2b8e9f5-9d01-457c-a3dd-f6b1f643fbda",
   "metadata": {},
   "outputs": [],
   "source": [
    "#21. What is the logging module in Python used for?\n",
    "# The logging module in Python is used for tracking events that occur while a program runs. \n",
    "# It provides a flexible framework for emitting log messages from Python programs, making debugging and monitoring easier."
   ]
  },
  {
   "cell_type": "code",
   "execution_count": null,
   "id": "4fa99b7b-1399-4a7e-b4e6-504f24fc9b98",
   "metadata": {},
   "outputs": [],
   "source": [
    "#22. What is the os module in Python used for in file handling?\n",
    "# The os module in Python provides functions to interact with the operating system, making it useful for file handling tasks like creating,\n",
    "# deleting, renaming, and navigating directories. \n",
    "# It allows you to work with file paths, check file existence, and handle permissions."
   ]
  },
  {
   "cell_type": "code",
   "execution_count": null,
   "id": "264eb020-be80-4fe7-9035-20f7cd62d787",
   "metadata": {},
   "outputs": [],
   "source": [
    "#23. What are the challenges associated with memory management in Python?\n",
    "#(1) Garbage Collection Overhead – Frequent automatic garbage collection (GC) can introduce performance slowdowns.\n",
    "#(2) Circular References – Objects referencing each other may not be immediately freed, leading to memory leaks.\n",
    "#(3) Memory Leaks – Holding onto objects unnecessarily (e.g., global variables, caching) can cause memory bloat.\n",
    "#(4) Inefficient Data Structures – Using lists instead of generators or other inefficient structures increases memory usage.\n",
    "#(5) Global Interpreter Lock (GIL) – Limits multi-threading performance, making multiprocessing a better alternative for CPU-bound tasks.\n",
    "#(6) Large Objects Not Releasing Memory to OS – Python may not return memory to the OS even after objects are deleted.\n",
    "#(7) Shared Memory in Multithreading – Threads share memory, which can lead to race conditions and memory conflicts.\n",
    "#(8) Workarounds – Use generators for large datasets, del for unused objects, gc.collect() for forced cleanup, and multiprocessing for better memory management."
   ]
  },
  {
   "cell_type": "code",
   "execution_count": 55,
   "id": "848719db-2ebd-448c-be6b-87b162ba8a4d",
   "metadata": {},
   "outputs": [],
   "source": [
    "#24. How do you raise an exception manually in Python?\n",
    "# In Python, exceptions can be manually raised using the raise keyword. \n",
    "#This allows developers to control error handling and enforce constraints in their programs. \n",
    "# The raise statement is followed by an exception type, which can be a built-in exception (e.g., ValueError, TypeError) or a user-defined exception.\n",
    "\n",
    "# When an exception is raised, the normal flow of the program is interrupted, and Python searches for an appropriate except block to handle the error. \n",
    "# If no handler is found, the program terminates with a traceback message.\n",
    "\n",
    "# Additionally, custom exceptions can be created by defining a new class that inherits from the built-in Exception class. \n",
    "# This helps in raising more meaningful errors specific to an application."
   ]
  },
  {
   "cell_type": "code",
   "execution_count": 57,
   "id": "26b0640d-05a3-46cb-afb4-e5493474fce1",
   "metadata": {},
   "outputs": [],
   "source": [
    "#25. Why is it important to use multithreading in certain applications?\n",
    "# Improves Responsiveness – Prevents UI freezing in applications like media players and GUI programs.\n",
    "# Handles Multiple Tasks Simultaneously – Enables concurrent execution of tasks, such as loading multiple web pages.\n",
    "# Optimizes CPU Utilization (For I/O-bound Tasks) – Allows efficient execution of network requests, file operations, etc.\n",
    "# Enhances Performance in Multi-Core Systems – Useful in multiprocessing for true parallel execution.\n",
    "# Efficient Resource Sharing – Threads share memory, reducing overhead compared to multiple processes.\n",
    "# Reduces Execution Time – Speeds up workloads by executing independent tasks concurrently."
   ]
  },
  {
   "cell_type": "code",
   "execution_count": null,
   "id": "46deb0fa-7f38-4f8e-938b-af31d331a25b",
   "metadata": {},
   "outputs": [],
   "source": [
    "# Practical Questions >>"
   ]
  },
  {
   "cell_type": "code",
   "execution_count": 132,
   "id": "bd754d64-e319-431c-80f4-a8bf2fc07a57",
   "metadata": {},
   "outputs": [
    {
     "name": "stdout",
     "output_type": "stream",
     "text": [
      "File written successfully.\n"
     ]
    }
   ],
   "source": [
    "#1. How can you open a file for writing in Python and write a string to it?\n",
    "\n",
    "with open(\"example.txt\", \"w\") as file:\n",
    "    file.write(\"Hello, this is a test string!\")\n",
    "    \n",
    "print(\"File written successfully.\")"
   ]
  },
  {
   "cell_type": "code",
   "execution_count": 134,
   "id": "2858cd1f-515c-42aa-a350-990b44a7ccf3",
   "metadata": {},
   "outputs": [
    {
     "name": "stdout",
     "output_type": "stream",
     "text": [
      "Hello, this is a test string!\n"
     ]
    }
   ],
   "source": [
    "#2. Write a Python program to read the contents of a file and print each line.\n",
    "\n",
    "with open(\"example.txt\", \"r\") as file:\n",
    "    for line in file:\n",
    "        print(line.strip())"
   ]
  },
  {
   "cell_type": "code",
   "execution_count": 136,
   "id": "2caa8100-4f01-4726-8e33-e17cfcb1c182",
   "metadata": {},
   "outputs": [
    {
     "name": "stdout",
     "output_type": "stream",
     "text": [
      "Hello, this is a test string!\n"
     ]
    }
   ],
   "source": [
    "#3. How would you handle a case where the file doesn't exist while trying to open it for reading?\n",
    "\n",
    "try:\n",
    "    with open(\"example.txt\", \"r\") as file:\n",
    "        for line in file:\n",
    "            print(line.strip())\n",
    "except FileNotFoundError:\n",
    "    print(\"Error: The file 'example.txt' does not exist. Please check the file name and try again.\")"
   ]
  },
  {
   "cell_type": "code",
   "execution_count": 138,
   "id": "5893df85-777a-4f5f-b190-f7cc2722e042",
   "metadata": {},
   "outputs": [
    {
     "name": "stdout",
     "output_type": "stream",
     "text": [
      "Error: The file 'source.txt' does not exist. Please check the file name and try again.\n"
     ]
    }
   ],
   "source": [
    "#4.  Write a Python script that reads from one file and writes its content to another file.\n",
    "\n",
    "input_file = \"source.txt\"\n",
    "output_file = \"destination.txt\"\n",
    "\n",
    "try:\n",
    "    with open(input_file, \"r\") as source:\n",
    "        content = source.read()\n",
    "\n",
    "    with open(output_file, \"w\") as destination:\n",
    "        destination.write(content)\n",
    "\n",
    "    print(f\"Content has been successfully copied from '{input_file}' to '{output_file}'.\")\n",
    "except FileNotFoundError:\n",
    "    print(f\"Error: The file '{input_file}' does not exist. Please check the file name and try again.\")\n",
    "except IOError as e:\n",
    "    print(f\"An I/O error occurred: {e}\")"
   ]
  },
  {
   "cell_type": "code",
   "execution_count": 140,
   "id": "fdb3dfe4-751e-4868-a731-784a9d9aa5cf",
   "metadata": {},
   "outputs": [
    {
     "name": "stdout",
     "output_type": "stream",
     "text": [
      "Error: Division by zero is not allowed!\n"
     ]
    }
   ],
   "source": [
    "#5. How would you catch and handle division by zero error in Python?\n",
    "\n",
    "try:\n",
    "    numerator = 10\n",
    "    denominator = 0\n",
    "    result = numerator / denominator\n",
    "    print(f\"The result is {result}\")\n",
    "except ZeroDivisionError:\n",
    "    print(\"Error: Division by zero is not allowed!\")\n"
   ]
  },
  {
   "cell_type": "code",
   "execution_count": 142,
   "id": "9914fdd4-12fa-41c6-9d94-5246a4723fa7",
   "metadata": {},
   "outputs": [
    {
     "name": "stdout",
     "output_type": "stream",
     "text": [
      "Error: Division by zero is not allowed! The error has been logged.\n"
     ]
    }
   ],
   "source": [
    "#6. Write a Python program that logs an error message to a log file when a division by zero exception occurs.\n",
    "\n",
    "import logging\n",
    "logging.basicConfig(filename=\"error.log\", level=logging.ERROR, \n",
    "                    format=\"%(asctime)s - %(levelname)s - %(message)s\")\n",
    "\n",
    "try:\n",
    "    numerator = 10\n",
    "    denominator = 0\n",
    "    result = numerator / denominator\n",
    "    print(f\"The result is {result}\")\n",
    "except ZeroDivisionError as e:\n",
    "    logging.error(\"Division by zero error occurred!\", exc_info=True)\n",
    "    print(\"Error: Division by zero is not allowed! The error has been logged.\")\n"
   ]
  },
  {
   "cell_type": "code",
   "execution_count": 173,
   "id": "4d8f0e79-3406-4950-88a0-0e3de13c6522",
   "metadata": {},
   "outputs": [],
   "source": [
    "#7.  How do you log information at different levels (INFO, ERROR, WARNING) in Python using the logging module?\n",
    "\n",
    "import logging\n",
    "\n",
    "logging.basicConfig(level=logging.DEBUG, format=\"%(asctime)s - %(levelname)s - %(message)s\")\n",
    "\n",
    "logging.debug(\"This is a DEBUG message\")\n",
    "logging.info(\"This is an INFO message\")\n",
    "logging.warning(\"This is a WARNING message\")\n",
    "logging.error(\"This is an ERROR message\")\n",
    "logging.critical(\"This is a CRITICAL message\")"
   ]
  },
  {
   "cell_type": "code",
   "execution_count": 195,
   "id": "6da10e6f-79d5-4dd0-abe9-293aedfa6e72",
   "metadata": {},
   "outputs": [
    {
     "name": "stdout",
     "output_type": "stream",
     "text": [
      "Error: The file was not found. Please check the file name and try again.\n"
     ]
    }
   ],
   "source": [
    "#8. Write a program to handle a file opening error using exception handling.\n",
    "\n",
    "try:\n",
    "    with open(\"non_existent_file.txt\", \"r\") as file:\n",
    "        content = file.read()\n",
    "        print(content)\n",
    "except FileNotFoundError:\n",
    "    print(\"Error: The file was not found. Please check the file name and try again.\")\n",
    "except PermissionError:\n",
    "    print(\"Error: You do not have permission to open this file.\")\n",
    "except Exception as e:\n",
    "    print(f\"An unexpected error occurred: {e}\")"
   ]
  },
  {
   "cell_type": "code",
   "execution_count": 197,
   "id": "e4cb733f-73d9-4637-9470-e9db2613dfd8",
   "metadata": {},
   "outputs": [],
   "source": [
    "#9. How can you read a file line by line and store its content in a list in Python?\n",
    "\n",
    "with open(\"example.txt\", \"r\") as file:\n",
    "    lines = file.readlines()"
   ]
  },
  {
   "cell_type": "code",
   "execution_count": 199,
   "id": "17c1c42d-ba94-47d9-a127-047f88f1708b",
   "metadata": {},
   "outputs": [],
   "source": [
    "lines = []\n",
    "with open(\"example.txt\", \"r\") as file:\n",
    "    for line in file:\n",
    "        lines.append(line.strip())"
   ]
  },
  {
   "cell_type": "code",
   "execution_count": 201,
   "id": "0a427a34-a638-4e00-8370-85e800964140",
   "metadata": {},
   "outputs": [],
   "source": [
    "with open(\"example.txt\", \"r\") as file:\n",
    "    lines = [line.strip() for line in file]"
   ]
  },
  {
   "cell_type": "code",
   "execution_count": 203,
   "id": "36ceaa93-f798-4b4b-b486-29aaf2391e9a",
   "metadata": {},
   "outputs": [],
   "source": [
    "#10.  How can you append data to an existing file in Python?\n",
    "\n",
    "with open(\"example.txt\", \"a\") as file:\n",
    "    file.write(\"\\nThis is a new line appended to the file.\")"
   ]
  },
  {
   "cell_type": "code",
   "execution_count": 205,
   "id": "d1161dac-0e2b-443f-b2d2-b18539c33c53",
   "metadata": {},
   "outputs": [],
   "source": [
    "lines_to_append = [\"\\nAppending line 1\", \"\\nAppending line 2\"]\n",
    "with open(\"example.txt\", \"a\") as file:\n",
    "    file.writelines(lines_to_append)"
   ]
  },
  {
   "cell_type": "code",
   "execution_count": 207,
   "id": "a86f7155-6923-4d9c-8c8a-71e158fbad4b",
   "metadata": {},
   "outputs": [
    {
     "name": "stdin",
     "output_type": "stream",
     "text": [
      "Enter text to append:  This is a new log entry.\n"
     ]
    }
   ],
   "source": [
    "with open(\"example.txt\", \"a\") as file:\n",
    "    file.write(\"\\n\" + input(\"Enter text to append: \"))"
   ]
  },
  {
   "cell_type": "code",
   "execution_count": 209,
   "id": "08bd3a75-04a4-445f-a66c-6df703304b6c",
   "metadata": {},
   "outputs": [
    {
     "name": "stdin",
     "output_type": "stream",
     "text": [
      "Enter a key to fetch value:  age\n"
     ]
    },
    {
     "name": "stdout",
     "output_type": "stream",
     "text": [
      "Value: 30\n"
     ]
    }
   ],
   "source": [
    "#11. Write a Python program that uses a try-except block to handle an error when attempting to access a dictionary key that doesn't exist.\n",
    "\n",
    "data = {\"name\": \"Sayan\", \"age\": 30, \"city\": \"West Bengal\"}\n",
    "\n",
    "try:\n",
    "    key = input(\"Enter a key to fetch value: \")\n",
    "    value = data[key]\n",
    "    print(f\"Value: {value}\")\n",
    "except KeyError:\n",
    "    print(\"Error: The key does not exist in the dictionary.\")"
   ]
  },
  {
   "cell_type": "code",
   "execution_count": 211,
   "id": "ec7ba969-ab45-4ae6-8dce-fd71e82d440c",
   "metadata": {},
   "outputs": [
    {
     "name": "stdin",
     "output_type": "stream",
     "text": [
      "Enter a number:  10\n",
      "Enter another number:  2\n",
      "Enter a dictionary key to fetch value:  name\n"
     ]
    },
    {
     "name": "stdout",
     "output_type": "stream",
     "text": [
      "Result of division: 5.0\n",
      "Value from dictionary: Sayan\n",
      "Program execution continues...\n"
     ]
    }
   ],
   "source": [
    "#12. Write a program that demonstrates using multiple except blocks to handle different types of exceptions.\n",
    "\n",
    "try:\n",
    "    num1 = int(input(\"Enter a number: \"))\n",
    "    num2 = int(input(\"Enter another number: \"))\n",
    "\n",
    "    result = num1 / num2\n",
    "\n",
    "    data = {\"name\": \"Sayan\", \"age\": 30}\n",
    "    key = input(\"Enter a dictionary key to fetch value: \")\n",
    "    value = data[key]\n",
    "\n",
    "    print(f\"Result of division: {result}\")\n",
    "    print(f\"Value from dictionary: {value}\")\n",
    "\n",
    "except ValueError:\n",
    "    print(\"Error: Invalid input! Please enter a valid number.\")\n",
    "except ZeroDivisionError:\n",
    "    print(\"Error: Cannot divide by zero.\")\n",
    "except KeyError:\n",
    "    print(\"Error: The key does not exist in the dictionary.\")\n",
    "except Exception as e:\n",
    "    print(f\"An unexpected error occurred: {e}\")\n",
    "\n",
    "print(\"Program execution continues...\")"
   ]
  },
  {
   "cell_type": "code",
   "execution_count": 213,
   "id": "a819839c-6632-46f3-9c99-3ff536bb3b3c",
   "metadata": {},
   "outputs": [
    {
     "name": "stdout",
     "output_type": "stream",
     "text": [
      "File Content:\n",
      " Hello, this is a test string!\n",
      "This is a new line appended to the file.\n",
      "Appending line 1\n",
      "Appending line 2\n",
      "This is a new log entry.\n",
      "This is a new line appended to the file.\n",
      "Appending line 1\n",
      "Appending line 2\n",
      "This is a new log entry.\n"
     ]
    }
   ],
   "source": [
    "#13. How would you check if a file exists before attempting to read it in Python?\n",
    "\n",
    "from pathlib import Path\n",
    "\n",
    "file_path = Path(\"example.txt\")\n",
    "\n",
    "if file_path.exists():\n",
    "    with file_path.open(\"r\") as file:\n",
    "        content = file.read()\n",
    "        print(\"File Content:\\n\", content)\n",
    "else:\n",
    "    print(\"Error: File does not exist.\")"
   ]
  },
  {
   "cell_type": "code",
   "execution_count": 217,
   "id": "9d825c31-a265-4504-b8c7-4a3ca294b1c7",
   "metadata": {},
   "outputs": [],
   "source": [
    "#14. Write a program that uses the logging module to log both informational and error messages.\n",
    "\n",
    "import logging\n",
    "\n",
    "logging.basicConfig(\n",
    "    level=logging.DEBUG,\n",
    "    format=\"%(asctime)s - %(levelname)s - %(message)s\",\n",
    "    filename=\"app.log\",\n",
    "    filemode=\"w\"\n",
    ")\n",
    "\n",
    "def divide_numbers(a, b):\n",
    "    logging.info(f\"Received input: a={a}, b={b}\")\n",
    "    try:\n",
    "        result = a / b\n",
    "        logging.info(f\"Division successful: {result}\")\n",
    "        return result\n",
    "    except ZeroDivisionError:\n",
    "        logging.error(\"Error: Division by zero attempted!\")\n",
    "        return None"
   ]
  },
  {
   "cell_type": "code",
   "execution_count": 219,
   "id": "5c32b289-710b-49dd-96ed-7a19e125ebad",
   "metadata": {},
   "outputs": [],
   "source": [
    "\n",
    "logging.info(\"Program started\")\n",
    "\n",
    "num1, num2 = 10, 2\n",
    "divide_numbers(num1, num2)\n",
    "\n",
    "num1, num2 = 5, 0\n",
    "divide_numbers(num1, num2)\n",
    "\n",
    "logging.info(\"Program finished\")\n"
   ]
  },
  {
   "cell_type": "code",
   "execution_count": 221,
   "id": "030eb874-d8fd-4573-a23b-f697a45ceca9",
   "metadata": {},
   "outputs": [
    {
     "name": "stdout",
     "output_type": "stream",
     "text": [
      "File Content:\n",
      " Hello, this is a test string!\n",
      "This is a new line appended to the file.\n",
      "Appending line 1\n",
      "Appending line 2\n",
      "This is a new log entry.\n",
      "This is a new line appended to the file.\n",
      "Appending line 1\n",
      "Appending line 2\n",
      "This is a new log entry.\n"
     ]
    }
   ],
   "source": [
    "#15. Write a Python program that prints the content of a file and handles the case when the file is empty.\n",
    "\n",
    "import os\n",
    "\n",
    "def read_file(file_path):\n",
    "    \"\"\"Reads and prints file content, handling empty files and errors.\"\"\"\n",
    "    if not os.path.exists(file_path):\n",
    "        print(\"Error: The file does not exist.\")\n",
    "        return\n",
    "    \n",
    "    try:\n",
    "        with open(file_path, \"r\") as file:\n",
    "            content = file.read()\n",
    "            if content.strip():\n",
    "                print(\"File Content:\\n\", content)\n",
    "            else:\n",
    "                print(\"The file is empty.\")\n",
    "    except Exception as e:\n",
    "        print(f\"An error occurred: {e}\")\n",
    "\n",
    "file_path = \"example.txt\"\n",
    "read_file(file_path)"
   ]
  },
  {
   "cell_type": "code",
   "execution_count": 225,
   "id": "d8000f04-edb7-401c-9085-857e994f423d",
   "metadata": {},
   "outputs": [
    {
     "ename": "SyntaxError",
     "evalue": "invalid syntax (1766210143.py, line 3)",
     "output_type": "error",
     "traceback": [
      "\u001b[1;36m  Cell \u001b[1;32mIn[225], line 3\u001b[1;36m\u001b[0m\n\u001b[1;33m    pip install memory-profiler\u001b[0m\n\u001b[1;37m        ^\u001b[0m\n\u001b[1;31mSyntaxError\u001b[0m\u001b[1;31m:\u001b[0m invalid syntax\n"
     ]
    }
   ],
   "source": [
    "#16. Demonstrate how to use memory profiling to check the memory usage of a small program.\n",
    "\n",
    "pip install memory-profiler\n",
    "\n",
    "from memory_profiler import profile\n",
    "\n",
    "@profile  # This decorator tracks memory usage of the function\n",
    "def memory_test():\n",
    "    print(\"Starting memory test...\")\n",
    "    \n",
    "    # Creating a large list\n",
    "    numbers = [i for i in range(1000000)]  \n",
    "    \n",
    "    print(\"Sum of numbers:\", sum(numbers))\n",
    "    \n",
    "    # Deleting the list to free memory\n",
    "    del numbers  \n",
    "\n",
    "if __name__ == \"__main__\":\n",
    "    memory_test()\n",
    "\n",
    "python -m memory_profiler memory_test.py"
   ]
  },
  {
   "cell_type": "code",
   "execution_count": 227,
   "id": "0d828739-7248-46fb-98b6-9f09e9a8b54d",
   "metadata": {},
   "outputs": [
    {
     "name": "stdout",
     "output_type": "stream",
     "text": [
      "Numbers written to numbers.txt successfully!\n"
     ]
    }
   ],
   "source": [
    "#17. Write a Python program to create and write a list of numbers to a file, one number per line.\n",
    "\n",
    "file_name = \"numbers.txt\"\n",
    "\n",
    "numbers = list(range(1, 21)) \n",
    "\n",
    "with open(file_name, \"w\") as file:\n",
    "    for number in numbers:\n",
    "        file.write(f\"{number}\\n\")\n",
    "\n",
    "print(f\"Numbers written to {file_name} successfully!\")\n"
   ]
  },
  {
   "cell_type": "code",
   "execution_count": 229,
   "id": "c8f1109b-0677-407a-8d02-cf00ac048a53",
   "metadata": {},
   "outputs": [
    {
     "name": "stdout",
     "output_type": "stream",
     "text": [
      "Logging to app.log with rotation after 1MB\n"
     ]
    }
   ],
   "source": [
    "#18.  How would you implement a basic logging setup that logs to a file with rotation after 1MB?\n",
    "\n",
    "import logging\n",
    "from logging.handlers import RotatingFileHandler\n",
    "\n",
    "log_file = \"app.log\"\n",
    "max_size = 1 * 1024 * 1024  # 1MB\n",
    "backup_count = 3  # Keep 3 backup log files\n",
    "\n",
    "handler = RotatingFileHandler(log_file, maxBytes=max_size, backupCount=backup_count)\n",
    "handler.setLevel(logging.INFO)  \n",
    "\n",
    "formatter = logging.Formatter(\"%(asctime)s - %(levelname)s - %(message)s\")\n",
    "handler.setFormatter(formatter)\n",
    "\n",
    "logger = logging.getLogger(\"RotatingLogger\")\n",
    "logger.setLevel(logging.INFO)\n",
    "logger.addHandler(handler)\n",
    "\n",
    "for i in range(10000):\n",
    "    logger.info(f\"Log entry {i}\")\n",
    "\n",
    "print(f\"Logging to {log_file} with rotation after 1MB\")\n"
   ]
  },
  {
   "cell_type": "code",
   "execution_count": 233,
   "id": "50d93ed4-1585-4943-a389-e1ef338979d6",
   "metadata": {},
   "outputs": [
    {
     "name": "stdin",
     "output_type": "stream",
     "text": [
      "Enter a list index (0-2):  1\n"
     ]
    },
    {
     "name": "stdout",
     "output_type": "stream",
     "text": [
      "List value: 20\n"
     ]
    },
    {
     "name": "stdin",
     "output_type": "stream",
     "text": [
      "Enter a dictionary key (name/age/other):  name\n"
     ]
    },
    {
     "name": "stdout",
     "output_type": "stream",
     "text": [
      "Dictionary value: Sayan\n"
     ]
    }
   ],
   "source": [
    "#19. Write a program that handles both IndexError and KeyError using a try-except block.\n",
    "\n",
    "def handle_exceptions():\n",
    "    my_list = [10, 20, 30]\n",
    "    my_dict = {\"name\": \"Sayan\", \"age\": 30}\n",
    "\n",
    "    try:\n",
    "        index = int(input(\"Enter a list index (0-2): \"))\n",
    "        print(f\"List value: {my_list[index]}\")\n",
    "\n",
    "        key = input(\"Enter a dictionary key (name/age/other): \")\n",
    "        print(f\"Dictionary value: {my_dict[key]}\")\n",
    "\n",
    "    except IndexError:\n",
    "        print(\"Error: Index out of range! Please enter a valid index.\")\n",
    "    except KeyError:\n",
    "        print(\"Error: Key not found in dictionary!\")\n",
    "\n",
    "handle_exceptions()\n"
   ]
  },
  {
   "cell_type": "code",
   "execution_count": 235,
   "id": "674cfef1-1362-4292-a340-75d92e47fcf2",
   "metadata": {},
   "outputs": [
    {
     "name": "stdout",
     "output_type": "stream",
     "text": [
      "Hello, this is a test string!\n",
      "This is a new line appended to the file.\n",
      "Appending line 1\n",
      "Appending line 2\n",
      "This is a new log entry.\n",
      "This is a new line appended to the file.\n",
      "Appending line 1\n",
      "Appending line 2\n",
      "This is a new log entry.\n"
     ]
    }
   ],
   "source": [
    "#20. How would you open a file and read its contents using a context manager in Python?\n",
    "\n",
    "with open(\"example.txt\", \"r\") as file:\n",
    "    contents = file.read()\n",
    "\n",
    "print(contents)"
   ]
  },
  {
   "cell_type": "code",
   "execution_count": 237,
   "id": "a473d9ce-09ce-40f3-82e0-b05faa5ee39c",
   "metadata": {},
   "outputs": [
    {
     "name": "stdout",
     "output_type": "stream",
     "text": [
      "Hello, this is a test string!\n",
      "This is a new line appended to the file.\n",
      "Appending line 1\n",
      "Appending line 2\n",
      "This is a new log entry.\n",
      "This is a new line appended to the file.\n",
      "Appending line 1\n",
      "Appending line 2\n",
      "This is a new log entry.\n"
     ]
    }
   ],
   "source": [
    "with open(\"example.txt\", \"r\") as file:\n",
    "    for line in file:\n",
    "        print(line.strip())"
   ]
  },
  {
   "cell_type": "code",
   "execution_count": 239,
   "id": "fc41ba92-d490-4c0e-8e0d-4e16606062ba",
   "metadata": {},
   "outputs": [
    {
     "name": "stdout",
     "output_type": "stream",
     "text": [
      "The word 'python' appears 0 times in 'example.txt'.\n"
     ]
    }
   ],
   "source": [
    "#21. Write a Python program that reads a file and prints the number of occurrences of a specific word.\n",
    "\n",
    "def count_word_occurrences(filename, word):\n",
    "    try:\n",
    "        with open(filename, \"r\", encoding=\"utf-8\") as file:\n",
    "            content = file.read().lower()  \n",
    "        return content.split().count(word.lower())  \n",
    "    except FileNotFoundError:\n",
    "        print(f\"Error: The file '{filename}' was not found.\")\n",
    "        return None\n",
    "\n",
    "# Example usage\n",
    "filename = \"example.txt\" \n",
    "word = \"python\" \n",
    "\n",
    "occurrences = count_word_occurrences(filename, word)\n",
    "if occurrences is not None:\n",
    "    print(f\"The word '{word}' appears {occurrences} times in '{filename}'.\")\n"
   ]
  },
  {
   "cell_type": "code",
   "execution_count": 247,
   "id": "81bd5b5d-ac07-41c1-a3a4-f3ac53f39b43",
   "metadata": {},
   "outputs": [
    {
     "name": "stdout",
     "output_type": "stream",
     "text": [
      "Hello, this is a test string!\n",
      "This is a new line appended to the file.\n",
      "Appending line 1\n",
      "Appending line 2\n",
      "This is a new log entry.\n",
      "This is a new line appended to the file.\n",
      "Appending line 1\n",
      "Appending line 2\n",
      "This is a new log entry.\n"
     ]
    }
   ],
   "source": [
    "#22. How can you check if a file is empty before attempting to read its contents?\n",
    "\n",
    "#Method-1\n",
    "import os\n",
    "\n",
    "filename = \"example.txt\"\n",
    "\n",
    "if os.path.getsize(filename) == 0:\n",
    "    print(\"The file is empty.\")\n",
    "else:\n",
    "    with open(filename, \"r\") as file:\n",
    "        contents = file.read()\n",
    "    print(contents)\n"
   ]
  },
  {
   "cell_type": "code",
   "execution_count": 249,
   "id": "0e933111-1b2c-45b8-91a0-539303cccccc",
   "metadata": {},
   "outputs": [
    {
     "name": "stdout",
     "output_type": "stream",
     "text": [
      "Hello, this is a test string!\n",
      "This is a new line appended to the file.\n",
      "Appending line 1\n",
      "Appending line 2\n",
      "This is a new log entry.\n",
      "This is a new line appended to the file.\n",
      "Appending line 1\n",
      "Appending line 2\n",
      "This is a new log entry.\n"
     ]
    }
   ],
   "source": [
    "#Metho\n",
    "with open(\"example.txt\", \"r\") as file:\n",
    "    contents = file.read()\n",
    "    if not contents: \n",
    "        print(\"The file is empty.\")\n",
    "    else:\n",
    "        print(contents)\n"
   ]
  },
  {
   "cell_type": "code",
   "execution_count": 253,
   "id": "997c9eb2-043c-49c7-8ef3-8ec7eeaa96c1",
   "metadata": {},
   "outputs": [
    {
     "name": "stdout",
     "output_type": "stream",
     "text": [
      "Hello, this is a test string!\n",
      "This is a new line appended to the file.\n",
      "Appending line 1\n",
      "Appending line 2\n",
      "This is a new log entry.\n",
      "This is a new line appended to the file.\n",
      "Appending line 1\n",
      "Appending line 2\n",
      "This is a new log entry.\n"
     ]
    }
   ],
   "source": [
    "with open(\"example.txt\", \"r\") as file:\n",
    "    first_char = file.read(1)  \n",
    "    if not first_char:\n",
    "        print(\"The file is empty.\")\n",
    "    else:\n",
    "        file.seek(0) \n",
    "        print(file.read())\n"
   ]
  },
  {
   "cell_type": "code",
   "execution_count": 255,
   "id": "1aed152f-9f6e-4576-b2d6-19ff780de0d5",
   "metadata": {},
   "outputs": [
    {
     "name": "stdout",
     "output_type": "stream",
     "text": [
      "Error: The file 'nonexistent.txt' does not exist.\n"
     ]
    }
   ],
   "source": [
    "#23. Write a Python program that writes to a log file when an error occurs during file handling.\n",
    "\n",
    "import logging\n",
    "\n",
    "logging.basicConfig(filename=\"error_log.txt\", level=logging.ERROR, \n",
    "                    format=\"%(asctime)s - %(levelname)s - %(message)s\")\n",
    "\n",
    "def read_file(filename):\n",
    "    try:\n",
    "        with open(filename, \"r\") as file:\n",
    "            return file.read()\n",
    "    except FileNotFoundError:\n",
    "        logging.error(f\"File '{filename}' not found.\")\n",
    "        print(f\"Error: The file '{filename}' does not exist.\")\n",
    "    except PermissionError:\n",
    "        logging.error(f\"Permission denied for file '{filename}'.\")\n",
    "        print(f\"Error: Permission denied for '{filename}'.\")\n",
    "    except Exception as e:\n",
    "        logging.error(f\"An unexpected error occurred: {e}\")\n",
    "        print(f\"An unexpected error occurred: {e}\")\n",
    "\n",
    "filename = \"nonexistent.txt\"  # Change this to test different cases\n",
    "content = read_file(filename)\n",
    "\n",
    "if content:\n",
    "    print(content)\n"
   ]
  },
  {
   "cell_type": "code",
   "execution_count": null,
   "id": "4d4d9934-fcf2-463b-aac2-263614d4d526",
   "metadata": {},
   "outputs": [],
   "source": []
  }
 ],
 "metadata": {
  "kernelspec": {
   "display_name": "Python [conda env:base] *",
   "language": "python",
   "name": "conda-base-py"
  },
  "language_info": {
   "codemirror_mode": {
    "name": "ipython",
    "version": 3
   },
   "file_extension": ".py",
   "mimetype": "text/x-python",
   "name": "python",
   "nbconvert_exporter": "python",
   "pygments_lexer": "ipython3",
   "version": "3.12.7"
  }
 },
 "nbformat": 4,
 "nbformat_minor": 5
}
